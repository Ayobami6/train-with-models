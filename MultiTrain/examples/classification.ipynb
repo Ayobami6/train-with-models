{
 "cells": [
  {
   "cell_type": "code",
   "execution_count": 2,
   "id": "edd187fa-da67-4c30-92c4-0a2e261f67ef",
   "metadata": {},
   "outputs": [],
   "source": [
    "from MultiTrain import MultiClassifier"
   ]
  },
  {
   "cell_type": "code",
   "execution_count": null,
   "id": "fec8bb3f-74e6-4bfa-9897-f09a7de303ae",
   "metadata": {},
   "outputs": [],
   "source": []
  }
 ],
 "metadata": {
  "kernelspec": {
   "display_name": "Python [conda env:multitrain]",
   "language": "python",
   "name": "conda-env-multitrain-py"
  },
  "language_info": {
   "codemirror_mode": {
    "name": "ipython",
    "version": 3
   },
   "file_extension": ".py",
   "mimetype": "text/x-python",
   "name": "python",
   "nbconvert_exporter": "python",
   "pygments_lexer": "ipython3",
   "version": "3.10.4"
  }
 },
 "nbformat": 4,
 "nbformat_minor": 5
}
